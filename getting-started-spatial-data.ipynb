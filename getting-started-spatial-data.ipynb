{
 "cells": [
  {
   "cell_type": "markdown",
   "metadata": {},
   "source": [
    "# Getting Started with Spatial Data Science in Python\n",
    "### University of Minnesota Day of Data\n",
    "Bryan C. Runck // runck014@umn.edu // Department of Geography, Environment and Society\n",
    "\n",
    "**Overview**\n",
    "How can we use python to do spatial data science? This jam session will provide a hands-on overview of basic mapping in Python with GeoPandas and how to perform basic spatial analysis using PySAL. No programming experience is required.\n",
    "\n",
    "## Objectives\n",
    "1. Make two simple and rate maps with [GeoPandas](http://geopandas.org) and AirBnB data\n",
    "    - Data I/O\n",
    "    - Make a chloropleth map\n",
    "    - Overlay in GeoPandas\n",
    "    - Recognize the importance of projections\n",
    "2. Perform an exploratory visual analysis of the data to identify potential places you would want to hone an AirBnB stay \n",
    "3. Use [PySAL](http://pysal.readthedocs.io/en/latest/) to compute global spatial autocorrelation \n",
    "    - Morans I (Global)\n",
    "\n",
    "\n",
    "# Table of Contents\n",
    "\n",
    "1. [Motivation for spatial data science](#motivation)\n",
    "2. [Getting spatial data](#get_data)\n",
    "3. [Data exploration](#esda)\n",
    "4. [Basic spatial analysis](#bda)\n",
    "\n"
   ]
  },
  {
   "cell_type": "markdown",
   "metadata": {},
   "source": [
    "<a id=\"motivation\"></a>\n",
    "# Motivation for Spatial\n",
    "\n",
    "see [Google slides](https://docs.google.com/presentation/d/1_RuL1EHp7sOn5yLnCuBqRWW8eGo-Z8YemyEzjS2KpXU/edit?usp=sharing)"
   ]
  },
  {
   "cell_type": "markdown",
   "metadata": {},
   "source": [
    "<a id='get_data'></a>\n",
    "# Getting Spatial Data"
   ]
  },
  {
   "cell_type": "code",
   "execution_count": null,
   "metadata": {
    "scrolled": true
   },
   "outputs": [],
   "source": [
    "'''\n",
    "#wget is a linux tool; Jupyter allows access through ! character; https://www.gnu.org/software/wget/\n",
    "Download a file from Minnesota Geospatial Commons\n",
    "'''\n",
    "#!wget ftp://ftp.gisdata.mn.gov/pub/gdrs/data/pub/us_mn_state_dnr/bdry_dnr_wildlife_mgmt_areas_pub/shp_bdry_dnr_wildlife_mgmt_areas_pub.zip"
   ]
  },
  {
   "cell_type": "code",
   "execution_count": null,
   "metadata": {},
   "outputs": [],
   "source": [
    "'''\n",
    "linux tool to unzip files; may need to install on system\n",
    "'''\n",
    "#!unzip shp_bdry_dnr_wildlife_mgmt_areas_pub.zip"
   ]
  },
  {
   "cell_type": "code",
   "execution_count": 17,
   "metadata": {
    "scrolled": true
   },
   "outputs": [
    {
     "data": {
      "text/plain": [
       "'\\nsimlar to wget; \\nls lists all of the file, -l is a formatting designator; \\n*.shp tells linux, list all of the files in the current directory that end in\\n.shp <- is a common spatial data format; comes with 3 other files\\nhttps://en.wikipedia.org/wiki/Shapefile#Shapefile_shape_index_format_(.shx)\\n'"
      ]
     },
     "execution_count": 17,
     "metadata": {},
     "output_type": "execute_result"
    }
   ],
   "source": [
    "'''\n",
    "simlar to wget; \n",
    "ls lists all of the file, -l is a formatting designator; \n",
    "*.shp tells linux, list all of the files in the current directory that end in\n",
    ".shp <- is a common spatial data format; comes with 3 other files\n",
    "https://en.wikipedia.org/wiki/Shapefile#Shapefile_shape_index_format_(.shx)\n",
    "'''\n",
    "#!ls -l *.shp"
   ]
  },
  {
   "cell_type": "markdown",
   "metadata": {},
   "source": [
    "<a id='esda'></a>\n",
    "# Spatial Data Exploration"
   ]
  },
  {
   "cell_type": "code",
   "execution_count": 1,
   "metadata": {},
   "outputs": [],
   "source": [
    "import geopandas as gpd"
   ]
  },
  {
   "cell_type": "markdown",
   "metadata": {},
   "source": [
    "## Import Data\n",
    "\n",
    "AirBnB's in Chicago - the data set comes from Luc Anselin's spatial data science group in at the University of Chicago. \n",
    "\n",
    "**Metadata can be found [here](https://geodacenter.github.io/data-and-lab//airbnb_Chicago-2015/).***"
   ]
  },
  {
   "cell_type": "code",
   "execution_count": 2,
   "metadata": {},
   "outputs": [],
   "source": [
    "chicago_bnb = gpd.read_file('data/airbnb_Chicago 2015.shp')"
   ]
  },
  {
   "cell_type": "code",
   "execution_count": 3,
   "metadata": {},
   "outputs": [
    {
     "data": {
      "text/html": [
       "<div>\n",
       "<style scoped>\n",
       "    .dataframe tbody tr th:only-of-type {\n",
       "        vertical-align: middle;\n",
       "    }\n",
       "\n",
       "    .dataframe tbody tr th {\n",
       "        vertical-align: top;\n",
       "    }\n",
       "\n",
       "    .dataframe thead th {\n",
       "        text-align: right;\n",
       "    }\n",
       "</style>\n",
       "<table border=\"1\" class=\"dataframe\">\n",
       "  <thead>\n",
       "    <tr style=\"text-align: right;\">\n",
       "      <th></th>\n",
       "      <th>community</th>\n",
       "      <th>shape_area</th>\n",
       "      <th>shape_len</th>\n",
       "      <th>AREAID</th>\n",
       "      <th>response_r</th>\n",
       "      <th>accept_r</th>\n",
       "      <th>rev_rating</th>\n",
       "      <th>price_pp</th>\n",
       "      <th>room_type</th>\n",
       "      <th>num_spots</th>\n",
       "      <th>...</th>\n",
       "      <th>crowded</th>\n",
       "      <th>dependency</th>\n",
       "      <th>without_hs</th>\n",
       "      <th>unemployed</th>\n",
       "      <th>income_pc</th>\n",
       "      <th>harship_in</th>\n",
       "      <th>num_crimes</th>\n",
       "      <th>num_theft</th>\n",
       "      <th>population</th>\n",
       "      <th>geometry</th>\n",
       "    </tr>\n",
       "  </thead>\n",
       "  <tbody>\n",
       "    <tr>\n",
       "      <th>0</th>\n",
       "      <td>DOUGLAS</td>\n",
       "      <td>46004621.1581</td>\n",
       "      <td>31027.0545098</td>\n",
       "      <td>35</td>\n",
       "      <td>98.771429</td>\n",
       "      <td>94.514286</td>\n",
       "      <td>87.777778</td>\n",
       "      <td>78.157895</td>\n",
       "      <td>1.789474</td>\n",
       "      <td>38</td>\n",
       "      <td>...</td>\n",
       "      <td>1.8</td>\n",
       "      <td>30.7</td>\n",
       "      <td>14.3</td>\n",
       "      <td>18.2</td>\n",
       "      <td>23791</td>\n",
       "      <td>47</td>\n",
       "      <td>5013</td>\n",
       "      <td>1241</td>\n",
       "      <td>18238</td>\n",
       "      <td>POLYGON ((-87.60914087617012 41.84469250346108...</td>\n",
       "    </tr>\n",
       "    <tr>\n",
       "      <th>1</th>\n",
       "      <td>OAKLAND</td>\n",
       "      <td>16913961.0408</td>\n",
       "      <td>19565.5061533</td>\n",
       "      <td>36</td>\n",
       "      <td>99.200000</td>\n",
       "      <td>90.105263</td>\n",
       "      <td>88.812500</td>\n",
       "      <td>53.775000</td>\n",
       "      <td>1.850000</td>\n",
       "      <td>20</td>\n",
       "      <td>...</td>\n",
       "      <td>1.3</td>\n",
       "      <td>40.4</td>\n",
       "      <td>18.4</td>\n",
       "      <td>28.7</td>\n",
       "      <td>19252</td>\n",
       "      <td>78</td>\n",
       "      <td>1306</td>\n",
       "      <td>311</td>\n",
       "      <td>5918</td>\n",
       "      <td>POLYGON ((-87.592152838785 41.81692934706861, ...</td>\n",
       "    </tr>\n",
       "    <tr>\n",
       "      <th>2</th>\n",
       "      <td>FULLER PARK</td>\n",
       "      <td>19916704.8692</td>\n",
       "      <td></td>\n",
       "      <td>37</td>\n",
       "      <td>68.000000</td>\n",
       "      <td>0.000000</td>\n",
       "      <td>91.750000</td>\n",
       "      <td>84.000000</td>\n",
       "      <td>1.833333</td>\n",
       "      <td>6</td>\n",
       "      <td>...</td>\n",
       "      <td>3.2</td>\n",
       "      <td>44.9</td>\n",
       "      <td>26.6</td>\n",
       "      <td>33.9</td>\n",
       "      <td>10432</td>\n",
       "      <td>97</td>\n",
       "      <td>1764</td>\n",
       "      <td>383</td>\n",
       "      <td>2876</td>\n",
       "      <td>POLYGON ((-87.62879823732874 41.80189303448802...</td>\n",
       "    </tr>\n",
       "    <tr>\n",
       "      <th>3</th>\n",
       "      <td>GRAND BOULEVARD</td>\n",
       "      <td>48492503.1554</td>\n",
       "      <td>28196.8371573</td>\n",
       "      <td>38</td>\n",
       "      <td>94.037037</td>\n",
       "      <td>83.615385</td>\n",
       "      <td>92.750000</td>\n",
       "      <td>119.533333</td>\n",
       "      <td>1.533333</td>\n",
       "      <td>30</td>\n",
       "      <td>...</td>\n",
       "      <td>3.3</td>\n",
       "      <td>39.5</td>\n",
       "      <td>15.9</td>\n",
       "      <td>24.3</td>\n",
       "      <td>23472</td>\n",
       "      <td>57</td>\n",
       "      <td>6416</td>\n",
       "      <td>1428</td>\n",
       "      <td>21929</td>\n",
       "      <td>POLYGON ((-87.60670812560372 41.81681377137391...</td>\n",
       "    </tr>\n",
       "    <tr>\n",
       "      <th>4</th>\n",
       "      <td>KENWOOD</td>\n",
       "      <td>29071741.9283</td>\n",
       "      <td>23325.1679062</td>\n",
       "      <td>39</td>\n",
       "      <td>92.542857</td>\n",
       "      <td>88.142857</td>\n",
       "      <td>90.656250</td>\n",
       "      <td>77.991453</td>\n",
       "      <td>1.615385</td>\n",
       "      <td>39</td>\n",
       "      <td>...</td>\n",
       "      <td>2.4</td>\n",
       "      <td>35.4</td>\n",
       "      <td>11.3</td>\n",
       "      <td>15.7</td>\n",
       "      <td>35911</td>\n",
       "      <td>26</td>\n",
       "      <td>2713</td>\n",
       "      <td>654</td>\n",
       "      <td>17841</td>\n",
       "      <td>POLYGON ((-87.592152838785 41.81692934706861, ...</td>\n",
       "    </tr>\n",
       "  </tbody>\n",
       "</table>\n",
       "<p>5 rows × 21 columns</p>\n",
       "</div>"
      ],
      "text/plain": [
       "         community     shape_area      shape_len  AREAID  response_r  \\\n",
       "0          DOUGLAS  46004621.1581  31027.0545098      35   98.771429   \n",
       "1          OAKLAND  16913961.0408  19565.5061533      36   99.200000   \n",
       "2      FULLER PARK  19916704.8692                     37   68.000000   \n",
       "3  GRAND BOULEVARD  48492503.1554  28196.8371573      38   94.037037   \n",
       "4          KENWOOD  29071741.9283  23325.1679062      39   92.542857   \n",
       "\n",
       "    accept_r  rev_rating    price_pp  room_type  num_spots  \\\n",
       "0  94.514286   87.777778   78.157895   1.789474         38   \n",
       "1  90.105263   88.812500   53.775000   1.850000         20   \n",
       "2   0.000000   91.750000   84.000000   1.833333          6   \n",
       "3  83.615385   92.750000  119.533333   1.533333         30   \n",
       "4  88.142857   90.656250   77.991453   1.615385         39   \n",
       "\n",
       "                         ...                          crowded  dependency  \\\n",
       "0                        ...                              1.8        30.7   \n",
       "1                        ...                              1.3        40.4   \n",
       "2                        ...                              3.2        44.9   \n",
       "3                        ...                              3.3        39.5   \n",
       "4                        ...                              2.4        35.4   \n",
       "\n",
       "   without_hs  unemployed  income_pc  harship_in  num_crimes  num_theft  \\\n",
       "0        14.3        18.2      23791          47        5013       1241   \n",
       "1        18.4        28.7      19252          78        1306        311   \n",
       "2        26.6        33.9      10432          97        1764        383   \n",
       "3        15.9        24.3      23472          57        6416       1428   \n",
       "4        11.3        15.7      35911          26        2713        654   \n",
       "\n",
       "   population                                           geometry  \n",
       "0       18238  POLYGON ((-87.60914087617012 41.84469250346108...  \n",
       "1        5918  POLYGON ((-87.592152838785 41.81692934706861, ...  \n",
       "2        2876  POLYGON ((-87.62879823732874 41.80189303448802...  \n",
       "3       21929  POLYGON ((-87.60670812560372 41.81681377137391...  \n",
       "4       17841  POLYGON ((-87.592152838785 41.81692934706861, ...  \n",
       "\n",
       "[5 rows x 21 columns]"
      ]
     },
     "execution_count": 3,
     "metadata": {},
     "output_type": "execute_result"
    }
   ],
   "source": [
    "#check import to make sure it looks OK\n",
    "chicago_bnb.head()"
   ]
  },
  {
   "cell_type": "code",
   "execution_count": 19,
   "metadata": {},
   "outputs": [
    {
     "data": {
      "text/plain": [
       "{'init': 'epsg:4326'}"
      ]
     },
     "execution_count": 19,
     "metadata": {},
     "output_type": "execute_result"
    }
   ],
   "source": [
    "chicago_bnb.crs"
   ]
  },
  {
   "cell_type": "markdown",
   "metadata": {},
   "source": [
    "^^ crs = coordinate reference system; it makes all of the spatial stuff work correctly; see [wikipedia](https://en.wikipedia.org/wiki/Spatial_reference_system) for a nice overview; EPSG = European Petroleum Survey Group, and is a prominent spatial reference system identifier; 4326 is the code for WGS84 a global datum (e.g. how points in GIS are connected to real places on the earth)"
   ]
  },
  {
   "cell_type": "markdown",
   "metadata": {},
   "source": [
    "## Summarizing and Basic Plotting"
   ]
  },
  {
   "cell_type": "code",
   "execution_count": 4,
   "metadata": {},
   "outputs": [
    {
     "data": {
      "text/html": [
       "<div>\n",
       "<style scoped>\n",
       "    .dataframe tbody tr th:only-of-type {\n",
       "        vertical-align: middle;\n",
       "    }\n",
       "\n",
       "    .dataframe tbody tr th {\n",
       "        vertical-align: top;\n",
       "    }\n",
       "\n",
       "    .dataframe thead th {\n",
       "        text-align: right;\n",
       "    }\n",
       "</style>\n",
       "<table border=\"1\" class=\"dataframe\">\n",
       "  <thead>\n",
       "    <tr style=\"text-align: right;\">\n",
       "      <th></th>\n",
       "      <th>AREAID</th>\n",
       "      <th>response_r</th>\n",
       "      <th>accept_r</th>\n",
       "      <th>rev_rating</th>\n",
       "      <th>price_pp</th>\n",
       "      <th>room_type</th>\n",
       "      <th>num_spots</th>\n",
       "      <th>poverty</th>\n",
       "      <th>crowded</th>\n",
       "      <th>dependency</th>\n",
       "      <th>without_hs</th>\n",
       "      <th>unemployed</th>\n",
       "      <th>income_pc</th>\n",
       "      <th>harship_in</th>\n",
       "      <th>num_crimes</th>\n",
       "      <th>num_theft</th>\n",
       "      <th>population</th>\n",
       "    </tr>\n",
       "  </thead>\n",
       "  <tbody>\n",
       "    <tr>\n",
       "      <th>count</th>\n",
       "      <td>77.000000</td>\n",
       "      <td>77.000000</td>\n",
       "      <td>77.000000</td>\n",
       "      <td>77.000000</td>\n",
       "      <td>77.000000</td>\n",
       "      <td>77.000000</td>\n",
       "      <td>77.000000</td>\n",
       "      <td>77.000000</td>\n",
       "      <td>77.000000</td>\n",
       "      <td>77.000000</td>\n",
       "      <td>77.000000</td>\n",
       "      <td>77.000000</td>\n",
       "      <td>77.000000</td>\n",
       "      <td>77.000000</td>\n",
       "      <td>77.000000</td>\n",
       "      <td>77.000000</td>\n",
       "      <td>77.000000</td>\n",
       "    </tr>\n",
       "    <tr>\n",
       "      <th>mean</th>\n",
       "      <td>39.000000</td>\n",
       "      <td>83.318335</td>\n",
       "      <td>77.846338</td>\n",
       "      <td>80.604095</td>\n",
       "      <td>66.189392</td>\n",
       "      <td>1.539370</td>\n",
       "      <td>65.272727</td>\n",
       "      <td>21.766234</td>\n",
       "      <td>4.923377</td>\n",
       "      <td>35.746753</td>\n",
       "      <td>20.341558</td>\n",
       "      <td>15.372727</td>\n",
       "      <td>25563.168831</td>\n",
       "      <td>49.506494</td>\n",
       "      <td>6870.077922</td>\n",
       "      <td>1527.350649</td>\n",
       "      <td>35007.766234</td>\n",
       "    </tr>\n",
       "    <tr>\n",
       "      <th>std</th>\n",
       "      <td>22.371857</td>\n",
       "      <td>31.117532</td>\n",
       "      <td>32.863618</td>\n",
       "      <td>31.532616</td>\n",
       "      <td>40.298618</td>\n",
       "      <td>0.649822</td>\n",
       "      <td>142.899361</td>\n",
       "      <td>11.529957</td>\n",
       "      <td>3.682887</td>\n",
       "      <td>7.327716</td>\n",
       "      <td>11.823152</td>\n",
       "      <td>7.543412</td>\n",
       "      <td>15293.098259</td>\n",
       "      <td>28.690556</td>\n",
       "      <td>5879.232012</td>\n",
       "      <td>1646.569526</td>\n",
       "      <td>22361.945576</td>\n",
       "    </tr>\n",
       "    <tr>\n",
       "      <th>min</th>\n",
       "      <td>1.000000</td>\n",
       "      <td>0.000000</td>\n",
       "      <td>0.000000</td>\n",
       "      <td>0.000000</td>\n",
       "      <td>0.000000</td>\n",
       "      <td>0.000000</td>\n",
       "      <td>0.000000</td>\n",
       "      <td>3.300000</td>\n",
       "      <td>0.300000</td>\n",
       "      <td>13.500000</td>\n",
       "      <td>2.500000</td>\n",
       "      <td>4.700000</td>\n",
       "      <td>8201.000000</td>\n",
       "      <td>1.000000</td>\n",
       "      <td>537.000000</td>\n",
       "      <td>104.000000</td>\n",
       "      <td>2876.000000</td>\n",
       "    </tr>\n",
       "    <tr>\n",
       "      <th>25%</th>\n",
       "      <td>20.000000</td>\n",
       "      <td>90.009901</td>\n",
       "      <td>83.600000</td>\n",
       "      <td>88.272727</td>\n",
       "      <td>39.645833</td>\n",
       "      <td>1.400000</td>\n",
       "      <td>2.000000</td>\n",
       "      <td>13.200000</td>\n",
       "      <td>2.300000</td>\n",
       "      <td>32.000000</td>\n",
       "      <td>11.800000</td>\n",
       "      <td>9.200000</td>\n",
       "      <td>15754.000000</td>\n",
       "      <td>25.000000</td>\n",
       "      <td>2707.000000</td>\n",
       "      <td>568.000000</td>\n",
       "      <td>18109.000000</td>\n",
       "    </tr>\n",
       "    <tr>\n",
       "      <th>50%</th>\n",
       "      <td>39.000000</td>\n",
       "      <td>94.636364</td>\n",
       "      <td>88.810345</td>\n",
       "      <td>92.750000</td>\n",
       "      <td>66.205972</td>\n",
       "      <td>1.587156</td>\n",
       "      <td>7.000000</td>\n",
       "      <td>18.900000</td>\n",
       "      <td>3.800000</td>\n",
       "      <td>38.100000</td>\n",
       "      <td>18.500000</td>\n",
       "      <td>13.900000</td>\n",
       "      <td>21323.000000</td>\n",
       "      <td>50.000000</td>\n",
       "      <td>4894.000000</td>\n",
       "      <td>1081.000000</td>\n",
       "      <td>31028.000000</td>\n",
       "    </tr>\n",
       "    <tr>\n",
       "      <th>75%</th>\n",
       "      <td>58.000000</td>\n",
       "      <td>100.000000</td>\n",
       "      <td>96.666667</td>\n",
       "      <td>94.540323</td>\n",
       "      <td>83.750000</td>\n",
       "      <td>2.000000</td>\n",
       "      <td>39.000000</td>\n",
       "      <td>29.200000</td>\n",
       "      <td>6.800000</td>\n",
       "      <td>40.500000</td>\n",
       "      <td>26.600000</td>\n",
       "      <td>20.000000</td>\n",
       "      <td>28887.000000</td>\n",
       "      <td>74.000000</td>\n",
       "      <td>9951.000000</td>\n",
       "      <td>1748.000000</td>\n",
       "      <td>48743.000000</td>\n",
       "    </tr>\n",
       "    <tr>\n",
       "      <th>max</th>\n",
       "      <td>77.000000</td>\n",
       "      <td>100.000000</td>\n",
       "      <td>100.000000</td>\n",
       "      <td>100.000000</td>\n",
       "      <td>176.375604</td>\n",
       "      <td>3.000000</td>\n",
       "      <td>741.000000</td>\n",
       "      <td>56.500000</td>\n",
       "      <td>15.800000</td>\n",
       "      <td>51.500000</td>\n",
       "      <td>54.800000</td>\n",
       "      <td>35.900000</td>\n",
       "      <td>88669.000000</td>\n",
       "      <td>98.000000</td>\n",
       "      <td>34365.000000</td>\n",
       "      <td>8783.000000</td>\n",
       "      <td>98514.000000</td>\n",
       "    </tr>\n",
       "  </tbody>\n",
       "</table>\n",
       "</div>"
      ],
      "text/plain": [
       "          AREAID  response_r    accept_r  rev_rating    price_pp  room_type  \\\n",
       "count  77.000000   77.000000   77.000000   77.000000   77.000000  77.000000   \n",
       "mean   39.000000   83.318335   77.846338   80.604095   66.189392   1.539370   \n",
       "std    22.371857   31.117532   32.863618   31.532616   40.298618   0.649822   \n",
       "min     1.000000    0.000000    0.000000    0.000000    0.000000   0.000000   \n",
       "25%    20.000000   90.009901   83.600000   88.272727   39.645833   1.400000   \n",
       "50%    39.000000   94.636364   88.810345   92.750000   66.205972   1.587156   \n",
       "75%    58.000000  100.000000   96.666667   94.540323   83.750000   2.000000   \n",
       "max    77.000000  100.000000  100.000000  100.000000  176.375604   3.000000   \n",
       "\n",
       "        num_spots    poverty    crowded  dependency  without_hs  unemployed  \\\n",
       "count   77.000000  77.000000  77.000000   77.000000   77.000000   77.000000   \n",
       "mean    65.272727  21.766234   4.923377   35.746753   20.341558   15.372727   \n",
       "std    142.899361  11.529957   3.682887    7.327716   11.823152    7.543412   \n",
       "min      0.000000   3.300000   0.300000   13.500000    2.500000    4.700000   \n",
       "25%      2.000000  13.200000   2.300000   32.000000   11.800000    9.200000   \n",
       "50%      7.000000  18.900000   3.800000   38.100000   18.500000   13.900000   \n",
       "75%     39.000000  29.200000   6.800000   40.500000   26.600000   20.000000   \n",
       "max    741.000000  56.500000  15.800000   51.500000   54.800000   35.900000   \n",
       "\n",
       "          income_pc  harship_in    num_crimes    num_theft    population  \n",
       "count     77.000000   77.000000     77.000000    77.000000     77.000000  \n",
       "mean   25563.168831   49.506494   6870.077922  1527.350649  35007.766234  \n",
       "std    15293.098259   28.690556   5879.232012  1646.569526  22361.945576  \n",
       "min     8201.000000    1.000000    537.000000   104.000000   2876.000000  \n",
       "25%    15754.000000   25.000000   2707.000000   568.000000  18109.000000  \n",
       "50%    21323.000000   50.000000   4894.000000  1081.000000  31028.000000  \n",
       "75%    28887.000000   74.000000   9951.000000  1748.000000  48743.000000  \n",
       "max    88669.000000   98.000000  34365.000000  8783.000000  98514.000000  "
      ]
     },
     "execution_count": 4,
     "metadata": {},
     "output_type": "execute_result"
    }
   ],
   "source": [
    "# describe feature works just as it does in pandas; \n",
    "chicago_bnb.describe()"
   ]
  },
  {
   "cell_type": "code",
   "execution_count": 18,
   "metadata": {},
   "outputs": [
    {
     "data": {
      "text/plain": [
       "<matplotlib.axes._subplots.AxesSubplot at 0x7fbf27af5748>"
      ]
     },
     "execution_count": 18,
     "metadata": {},
     "output_type": "execute_result"
    },
    {
     "data": {
      "image/png": "[encoded data removed]",
      "text/plain": [
       "<matplotlib.figure.Figure at 0x7fbf27b457b8>"
      ]
     },
     "metadata": {},
     "output_type": "display_data"
    }
   ],
   "source": [
    "#%matplotlib inline #tells matplotlib to print to Jupyter\n",
    "chicago_bnb.plot()"
   ]
  },
  {
   "cell_type": "code",
   "execution_count": 16,
   "metadata": {},
   "outputs": [
    {
     "name": "stdout",
     "output_type": "stream",
     "text": [
      "DOUGLAS\n"
     ]
    },
    {
     "data": {
      "image/svg+xml": [
       "<svg xmlns=\"http://www.w3.org/2000/svg\" xmlns:xlink=\"http://www.w3.org/1999/xlink\" width=\"100.0\" height=\"100.0\" viewBox=\"-87.63105568085457 41.822591056025765 0.02944178299034661 0.02422563917394882\" preserveAspectRatio=\"xMinYMin meet\"><g transform=\"matrix(1,0,0,-1,0,83.66940775122548)\"><path fill-rule=\"evenodd\" fill=\"#66cc99\" stroke=\"#555555\" stroke-width=\"0.0005888356598069322\" opacity=\"0.6\" d=\"M -87.60914087617012,41.84469250346108 L -87.60914874756925,41.84466159923116 L -87.60916112040377,41.84458961274664 L -87.60916766214955,41.84451717813025 L -87.60916860599283,41.84445626154538 L -87.60915012198514,41.844238717405155 L -87.60907241248407,41.84419473968805 L -87.60900627146937,41.84410647009398 L -87.60896502171278,41.84404345835816 L -87.6089156638973,41.843955294557524 L -87.60889980118105,41.84387361730229 L -87.6088670137098,41.84380438360743 L -87.60885143423606,41.843697607767794 L -87.60881089280211,41.84357184857331 L -87.60877127221904,41.843364517960396 L -87.60872156081648,41.84330772777204 L -87.60867220388796,41.84321956386265 L -87.60858152788133,41.843074662907995 L -87.60847385681988,41.84294847996566 L -87.60839135989272,41.84282245609141 L -87.60826740294763,41.84265224417277 L -87.60817672827486,41.842507342895516 L -87.6080691301754,41.84237488500156 L -87.60801956188496,41.84230554481001 L -87.60802097918128,41.842180050547256 L -87.60799814395996,41.841972825347234 L -87.6079750257652,41.84179069954186 L -87.6079766557274,41.84164638099073 L -87.6079781439466,41.84151461158924 L -87.60797949041941,41.84139539188711 L -87.60794734336663,41.84126968535609 L -87.60789016476008,41.841131270664874 L -87.60784934324847,41.84103060995981 L -87.60773349880778,41.84088554931062 L -87.60765630432459,41.84076193873921 L -87.60757583126387,41.84063822012952 L -87.60752760501985,41.84056030853322 L -87.60698398203101,41.84066738604876 L -87.60667816424403,41.84056137339439 L -87.60671361513975,41.84050343637542 L -87.60699497653887,41.84060011061274 L -87.60750090432069,41.84050284568744 L -87.60746117925359,41.840459950756745 L -87.60744220350448,41.840418505566596 L -87.6074332704139,41.840393960429 L -87.60743661712011,41.8403694923513 L -87.60743928898263,41.840365282528 L -87.60745016249727,41.840348150225395 L -87.60741319769637,41.84026855836181 L -87.60734791404363,41.84010499150254 L -87.6072109196161,41.83965162879595 L -87.6070952300635,41.83951203776532 L -87.60700484632396,41.83945658074732 L -87.60694131396686,41.83942818778112 L -87.60690335603505,41.839409835870484 L -87.60682817414475,41.83937313583088 L -87.60676104001784,41.83933868233455 L -87.60670126503233,41.83930262907422 L -87.60666194500963,41.83927493743137 L -87.6066204733688,41.83924284161879 L -87.60658411310668,41.83921297354175 L -87.60651223399353,41.83914391191648 L -87.60649228112257,41.83912449706636 L -87.60646795003377,41.839100822032144 L -87.60645125092643,41.83908479909034 L -87.60615627838726,41.83863502193079 L -87.60614048964037,41.83863857018922 L -87.60470984484891,41.83896006145735 L -87.6042777301301,41.83958213977973 L -87.60427494700043,41.83982732780842 L -87.60418506321405,41.839828573656014 L -87.60419546273982,41.8395543725384 L -87.60466703486144,41.8388798709645 L -87.60613498879054,41.838551276645155 L -87.60613594089122,41.83852105161993 L -87.60612905109754,41.83843916892108 L -87.60611500647559,41.838298784591736 L -87.60610096227762,41.838158400260085 L -87.60607903536552,41.83802381183703 L -87.60610453594293,41.83784275792806 L -87.60609890364316,41.837649816061955 L -87.60608545485236,41.83745682442305 L -87.6060716752297,41.83729305926258 L -87.6060191456668,41.83709982014393 L -87.60597489580954,41.8368657142905 L -87.6059147490214,41.836654890216735 L -87.60588836936232,41.836573039093714 L -87.60584678659262,41.836444016327604 L -87.6057701475616,41.83630908098499 L -87.60565502444081,41.83612129098373 L -87.60551618881472,41.83595673281761 L -87.60530826792214,41.835680670001416 L -87.60509186988871,41.835463009406816 L -87.60482102657402,41.83522162004449 L -87.6046429823647,41.83506850431385 L -87.60455786851077,41.83499197045582 L -87.60454429253178,41.83481066940606 L -87.60473439459709,41.83458974057311 L -87.60503332162249,41.834422112593614 L -87.6049960313061,41.83426404342431 L -87.6049439049819,41.83403573267714 L -87.60486846409401,41.833795582649294 L -87.6047455982643,41.833601897005174 L -87.60463015101621,41.833443331896135 L -87.60455305424416,41.83334931248788 L -87.60443687877189,41.83325504476559 L -87.60435156855027,41.833196046978436 L -87.6042271799983,41.83313680107197 L -87.604071528477,41.833077356540784 L -87.60391567814999,41.8330354472025 L -87.603751680516,41.83302271422805 L -87.60361099735053,41.83302182052833 L -87.6034860782174,41.83300933571538 L -87.6033536756205,41.832967574605604 L -87.60322922201611,41.83291417276021 L -87.6031284811347,41.83283753903632 L -87.60301244158188,41.83273157962239 L -87.60291229935893,41.83260233841422 L -87.60279652682183,41.832472997704706 L -87.60270433427128,41.832332115760444 L -87.6027053978702,41.832238591982225 L -87.60273083857302,41.832063384378145 L -87.60276449414434,41.83185315512621 L -87.60276542470062,41.831771321881014 L -87.60273575744247,41.83163083762258 L -87.6027295376769,41.831490502226586 L -87.60271020372586,41.83136624767305 L -87.60279792683366,41.83136620629781 L -87.602950022582,41.83133289248667 L -87.60583494109139,41.83123394861817 L -87.60604987531589,41.83123284431512 L -87.60620267768667,41.831238202292134 L -87.60670209232119,41.831232855293386 L -87.60686720985719,41.83123287064628 L -87.60721395666842,41.83123300502443 L -87.60749035996226,41.83121712014999 L -87.60828613363422,41.831209306309496 L -87.6090330635438,41.83120196683823 L -87.60939573918839,41.83119840140233 L -87.61063335778184,41.83118622542001 L -87.61100082837845,41.82977587133291 L -87.61100977741125,41.82974683839717 L -87.61102002074671,41.829716907992335 L -87.61108240937088,41.829493834770474 L -87.61127644642686,41.82879669397119 L -87.61127692970703,41.82879495879123 L -87.6112950704349,41.828729780155626 L -87.61129609251093,41.828726103775665 L -87.61133106843377,41.82860044278191 L -87.61141795483671,41.828288269355035 L -87.61141940967293,41.82828304161566 L -87.6114830835377,41.82805426482759 L -87.6115241788928,41.827906611521044 L -87.6116266848302,41.82753626072759 L -87.61168992269698,41.82730778374622 L -87.61184008667635,41.826766350196024 L -87.61188696986694,41.82659407474316 L -87.61194857939992,41.826367685892954 L -87.61205793721943,41.82597292374984 L -87.6121279287,41.8257227421971 L -87.61225564052701,41.82526241183631 L -87.61237128465226,41.82484023073088 L -87.6125769518163,41.824089387840964 L -87.61262427239447,41.82389080517135 L -87.61307586545516,41.82388477628119 L -87.61436403577905,41.823868988203984 L -87.61514774091994,41.82385938205802 L -87.61547482917395,41.82385537231098 L -87.61610922731991,41.823847592335895 L -87.61673229763211,41.82383813937483 L -87.6169968247497,41.82383410764625 L -87.61725854541707,41.82383011791209 L -87.61770996886861,41.823823235209524 L -87.61794972729027,41.82382029561154 L -87.61821435997894,41.82381705071321 L -87.6185513181061,41.82381291801811 L -87.61886174703943,41.82380910972197 L -87.61917760591544,41.823805230613736 L -87.61998816930563,41.823795271862544 L -87.62039535937376,41.82379026692264 L -87.62095332331079,41.823783406457096 L -87.62160197732236,41.823775267423855 L -87.62222982585942,41.82376738616025 L -87.62234636528846,41.82376591682915 L -87.62240779066713,41.82376514223724 L -87.62314672393556,41.823755822672716 L -87.62426776089141,41.82374167463069 L -87.62432122057021,41.82374128261319 L -87.62446432459515,41.82373962219041 L -87.62482271021824,41.823735732859326 L -87.62497215616355,41.82373411064784 L -87.62531936393763,41.82372867716026 L -87.62559794621336,41.82372485056514 L -87.62574361150479,41.82372311459192 L -87.62591974776295,41.8237210153253 L -87.62608002879398,41.8237187363846 L -87.62642224680934,41.82371376417948 L -87.62661202559408,41.823711006309516 L -87.62698708870555,41.82370809923334 L -87.627224939577,41.82370489637566 L -87.6275934143608,41.82369902444583 L -87.6277344869874,41.82369677610998 L -87.62806959945627,41.823690217183824 L -87.62830656308215,41.823687582934824 L -87.6286179305429,41.82368504218739 L -87.62876532190091,41.82368383904766 L -87.62896819970506,41.82368149243281 L -87.62902443060024,41.82525934879928 L -87.62903126473664,41.825453979390474 L -87.62903952948209,41.82568941339695 L -87.62904559797889,41.825885583478275 L -87.62909202843329,41.82733017648514 L -87.62907827723242,41.82742323234727 L -87.62904767936443,41.82751006574274 L -87.62898825423991,41.82758239700914 L -87.62893520543312,41.82763876826658 L -87.62892312908924,41.82767939169618 L -87.62893235141564,41.82785560278971 L -87.6289368271293,41.82802969885078 L -87.62894162228869,41.828254950558154 L -87.62894615001736,41.828481270880836 L -87.62894944328568,41.82864605660577 L -87.62895135774377,41.82874004934225 L -87.6289534503892,41.82884279024683 L -87.62895931484303,41.829074332576454 L -87.62896232304567,41.829190320177425 L -87.62896563326224,41.829317952454645 L -87.62897263322138,41.82958984244916 L -87.62898034189945,41.829890771117206 L -87.62898715370824,41.83015640300289 L -87.62899259211616,41.83036985795096 L -87.62899941196915,41.83064139003593 L -87.62900366241217,41.83083274633864 L -87.6289956829872,41.83097495028413 L -87.62914494786489,41.83097286354253 L -87.62924490109565,41.83097146611805 L -87.62938395426835,41.83097119601611 L -87.62947678530243,41.83097101545541 L -87.6295304775206,41.83097091087028 L -87.62956105279402,41.830970851505114 L -87.6295655112393,41.83105962866274 L -87.62958360078487,41.831753009126004 L -87.62961050449105,41.83277232556586 L -87.62961560755063,41.832976462105876 L -87.6296211040218,41.8332090700547 L -87.62962751661625,41.83348045073996 L -87.62964438185726,41.83416010208289 L -87.62964450668942,41.83416451754617 L -87.62965495204897,41.83453510198224 L -87.62965689610571,41.83461359464075 L -87.62965717449235,41.83462482862046 L -87.629662398187,41.834813013698856 L -87.62966276948393,41.83482638520598 L -87.62968729954054,41.83581138352726 L -87.62969845480355,41.83620399382232 L -87.62972206128597,41.83703485168352 L -87.62973867442305,41.837568130026575 L -87.62976040511525,41.83826567253957 L -87.62976266726227,41.83835303270967 L -87.62978240744162,41.83909986552523 L -87.62978731525807,41.8392855465754 L -87.62979312535917,41.83950889677161 L -87.6298008997375,41.839804295318864 L -87.62981523196025,41.840338485341405 L -87.62982944638786,41.84086397994831 L -87.62984200585437,41.84132829835443 L -87.62985750746304,41.841713961992546 L -87.62986099277367,41.841835079620594 L -87.62986309716192,41.841908213892495 L -87.62986619607898,41.84201589324835 L -87.6298755442388,41.842337157179344 L -87.62988457174264,41.84278617351453 L -87.62990488052863,41.843344480467785 L -87.62991425093101,41.84376221425837 L -87.62992853161464,41.844275669609196 L -87.6299306071058,41.844346292949076 L -87.62994472511093,41.84479973111627 L -87.62996222539653,41.84541345470652 L -87.62996524444752,41.84554483375244 L -87.62996524439643,41.84554483841736 L -87.62978701012575,41.84554552011293 L -87.62946563464423,41.845553059096346 L -87.62916818463978,41.845556606623276 L -87.62872700195979,41.84556186722146 L -87.6284606879554,41.84556618817687 L -87.62812269391209,41.845570790433 L -87.62791754031569,41.845573583594046 L -87.62765212479316,41.84557628907969 L -87.62723696033015,41.84557971998496 L -87.62696086826934,41.8455851066111 L -87.62675994850636,41.84558902638596 L -87.62637708858657,41.84559649432633 L -87.62626462169902,41.84559832233756 L -87.6261920770054,41.84559950113792 L -87.62618268754152,41.845599653812606 L -87.62614381812257,41.84560028551727 L -87.6261320650495,41.84560047659863 L -87.62610277230249,41.84560095265514 L -87.62579736038123,41.84560626159301 L -87.6255389038337,41.84561023997993 L -87.62532610033784,41.84561360404043 L -87.62479326358367,41.845622025744795 L -87.62446484493238,41.84562674079504 L -87.62417259010917,41.84563048939017 L -87.62407957620543,41.84563171719844 L -87.6236362047631,41.845638284468805 L -87.62339191456321,41.845641902085696 L -87.62213772958515,41.845660470963985 L -87.62048133129086,41.845684964133085 L -87.62033059867882,41.84568719208082 L -87.61886420373013,41.84571019884057 L -87.61783987811785,41.845726258792666 L -87.61767140559559,41.84572320337666 L -87.61729852316135,41.84566818215142 L -87.61720985189288,41.845655097932685 L -87.61692091129596,41.845644514377646 L -87.61666117917208,41.84564437588204 L -87.61661825063867,41.845643284729 L -87.61659503182254,41.84564215190312 L -87.61657183469312,41.845639043341876 L -87.61655066437635,41.845631940807756 L -87.61652626795411,41.845617875162006 L -87.61650393113082,41.84559687939186 L -87.61647763859752,41.845571879753464 L -87.61645798625278,41.84555037932018 L -87.61643788912791,41.845526049521126 L -87.61625954806448,41.84523119079309 L -87.61623779940655,41.845200236983864 L -87.61621749507974,41.84517804637304 L -87.61619627182667,41.84515917057376 L -87.61616875932155,41.845141627629054 L -87.61613940344323,41.84512805234193 L -87.6161002121301,41.84511444307074 L -87.61607353455582,41.84510423276182 L -87.6160352009613,41.84509597985459 L -87.61600840419449,41.845093123124634 L -87.61596180511143,41.84509217345769 L -87.61511263998153,41.84510687214145 L -87.61499270628724,41.84510993387022 L -87.61500079131052,41.84516621703666 L -87.61400068995992,41.84516647536757 L -87.61350109943116,41.84516643236027 L -87.61240099156913,41.84516639324705 L -87.61192963328182,41.84522518132672 L -87.61158088907109,41.84526623543961 L -87.61141060497297,41.845266549713436 L -87.61112256410892,41.8452664397457 L -87.61091654921505,41.84526644902026 L -87.60940614539751,41.845266504793145 L -87.60940949181392,41.8452177340755 L -87.60937658091392,41.84515338344386 L -87.60914087617012,41.84469250346108 z\" /></g></svg>"
      ],
      "text/plain": [
       "<shapely.geometry.polygon.Polygon at 0x7fbf3070ce48>"
      ]
     },
     "execution_count": 16,
     "metadata": {},
     "output_type": "execute_result"
    }
   ],
   "source": [
    "print(chicago_bnb['community'][0])\n",
    "chicago_bnb['geometry'][0]"
   ]
  },
  {
   "cell_type": "code",
   "execution_count": 20,
   "metadata": {},
   "outputs": [
    {
     "data": {
      "text/plain": [
       "0    POLYGON ((-87.60914087617012 41.84469250346108...\n",
       "1    POLYGON ((-87.592152838785 41.81692934706861, ...\n",
       "2    POLYGON ((-87.62879823732874 41.80189303448802...\n",
       "3    POLYGON ((-87.60670812560372 41.81681377137391...\n",
       "4    POLYGON ((-87.592152838785 41.81692934706861, ...\n",
       "5    POLYGON ((-87.6744075677953 41.9761034052494, ...\n",
       "6    POLYGON ((-87.60603749216133 41.78587406578995...\n",
       "7    POLYGON ((-87.58037662084516 41.80252502285027...\n",
       "8    POLYGON ((-87.57714456890433 41.78614641093024...\n",
       "9    POLYGON ((-87.65455590024236 41.99816615053949...\n",
       "Name: geometry, dtype: object"
      ]
     },
     "execution_count": 20,
     "metadata": {},
     "output_type": "execute_result"
    }
   ],
   "source": [
    "chicago_bnb['geometry'][0:10]"
   ]
  },
  {
   "cell_type": "code",
   "execution_count": 21,
   "metadata": {},
   "outputs": [
    {
     "data": {
      "text/plain": [
       "<matplotlib.axes._subplots.AxesSubplot at 0x7fbf27a69748>"
      ]
     },
     "execution_count": 21,
     "metadata": {},
     "output_type": "execute_result"
    },
    {
     "data": {
      "image/png": "[encoded data removed]",
      "text/plain": [
       "<matplotlib.figure.Figure at 0x7fbf27a50a58>"
      ]
     },
     "metadata": {},
     "output_type": "display_data"
    }
   ],
   "source": [
    "chicago_bnb['geometry'][0:10].plot()"
   ]
  },
  {
   "cell_type": "markdown",
   "metadata": {},
   "source": [
    "## Chloropleth Map\n",
    "The histogram of maps"
   ]
  },
  {
   "cell_type": "code",
   "execution_count": 22,
   "metadata": {},
   "outputs": [
    {
     "name": "stdout",
     "output_type": "stream",
     "text": [
      "['community' 'shape_area' 'shape_len' 'AREAID' 'response_r' 'accept_r'\n",
      " 'rev_rating' 'price_pp' 'room_type' 'num_spots' 'poverty' 'crowded'\n",
      " 'dependency' 'without_hs' 'unemployed' 'income_pc' 'harship_in'\n",
      " 'num_crimes' 'num_theft' 'population' 'geometry']\n"
     ]
    }
   ],
   "source": [
    "# columns that could be mapped\n",
    "print(chicago_bnb.columns.values)"
   ]
  },
  {
   "cell_type": "code",
   "execution_count": 26,
   "metadata": {},
   "outputs": [
    {
     "data": {
      "text/plain": [
       "<matplotlib.axes._subplots.AxesSubplot at 0x7fbf27947f28>"
      ]
     },
     "execution_count": 26,
     "metadata": {},
     "output_type": "execute_result"
    },
    {
     "data": {
      "image/png": "[encoded data removed]",
      "text/plain": [
       "<matplotlib.figure.Figure at 0x7fbf27925f60>"
      ]
     },
     "metadata": {},
     "output_type": "display_data"
    }
   ],
   "source": [
    "chicago_bnb.plot(column='price_pp', cmap='magma')"
   ]
  },
  {
   "cell_type": "markdown",
   "metadata": {},
   "source": [
    "***Wait, where is the legend?***"
   ]
  },
  {
   "cell_type": "code",
   "execution_count": 28,
   "metadata": {},
   "outputs": [],
   "source": [
    "########## HACK ############ \n",
    "# adapted from https://stackoverflow.com/questions/36008648/colorbar-on-geopandas\n",
    "## add a color bar\n",
    "## colormap options: https://matplotlib.org/users/colormaps.html\n",
    "from matplotlib import pyplot as plt\n",
    "\n",
    "# add colorbar that is normalized vmin to vmax\n",
    "def add_color_bar(map_object, variable_column, cmap_string):\n",
    "    vmin, vmax = variable_column.min(),  variable_column.min(),\n",
    "    fig = map_object.get_figure()\n",
    "    cax = fig.add_axes()\n",
    "    sm = plt.cm.ScalarMappable(cmap=cmap_string, norm=plt.Normalize(vmin=vmin, vmax=vmax))\n",
    "    # fake up the array of the scalar mappable\n",
    "    sm._A = []\n",
    "    fig.colorbar(sm, cax=cax)"
   ]
  },
  {
   "cell_type": "code",
   "execution_count": 29,
   "metadata": {},
   "outputs": [
    {
     "data": {
      "image/png": "[encoded data removed]",
      "text/plain": [
       "<matplotlib.figure.Figure at 0x7fbf279053c8>"
      ]
     },
     "metadata": {},
     "output_type": "display_data"
    }
   ],
   "source": [
    "chic_price_pp = chicago_bnb.plot(column='price_pp', cmap='magma')\n",
    "add_color_bar(chic_price_pp, chicago_bnb['price_pp'], 'magma')"
   ]
  },
  {
   "cell_type": "markdown",
   "metadata": {},
   "source": [
    "# Scatterplots"
   ]
  },
  {
   "cell_type": "code",
   "execution_count": 31,
   "metadata": {},
   "outputs": [
    {
     "data": {
      "text/plain": [
       "<matplotlib.collections.PathCollection at 0x7fbf1cfb5dd8>"
      ]
     },
     "execution_count": 31,
     "metadata": {},
     "output_type": "execute_result"
    },
    {
     "data": {
      "image/png": "[encoded data removed]",
      "text/plain": [
       "<matplotlib.figure.Figure at 0x7fbf1cfa82b0>"
      ]
     },
     "metadata": {},
     "output_type": "display_data"
    }
   ],
   "source": [
    "plt.scatter(x=chicago_bnb['rev_rating'], y=chicago_bnb['response_r'])"
   ]
  },
  {
   "cell_type": "markdown",
   "metadata": {},
   "source": [
    "# Comparing Multiple Scatteplots with Seaborn\n",
    "The goal is to identify interesting relationships that could guide exploratory mapping."
   ]
  },
  {
   "cell_type": "code",
   "execution_count": 30,
   "metadata": {},
   "outputs": [],
   "source": [
    "import seaborn as sns"
   ]
  },
  {
   "cell_type": "code",
   "execution_count": 36,
   "metadata": {},
   "outputs": [
    {
     "data": {
      "text/plain": [
       "['community',\n",
       " 'shape_area',\n",
       " 'shape_len',\n",
       " 'AREAID',\n",
       " 'response_r',\n",
       " 'accept_r',\n",
       " 'rev_rating',\n",
       " 'price_pp',\n",
       " 'room_type',\n",
       " 'num_spots',\n",
       " 'poverty',\n",
       " 'crowded',\n",
       " 'dependency',\n",
       " 'without_hs',\n",
       " 'unemployed',\n",
       " 'income_pc',\n",
       " 'harship_in',\n",
       " 'num_crimes',\n",
       " 'num_theft',\n",
       " 'population',\n",
       " 'geometry']"
      ]
     },
     "execution_count": 36,
     "metadata": {},
     "output_type": "execute_result"
    }
   ],
   "source": [
    "list(chicago_bnb.columns.values)"
   ]
  },
  {
   "cell_type": "code",
   "execution_count": 33,
   "metadata": {},
   "outputs": [
    {
     "data": {
      "text/plain": [
       "<seaborn.axisgrid.PairGrid at 0x7fbf1cf58ba8>"
      ]
     },
     "execution_count": 33,
     "metadata": {},
     "output_type": "execute_result"
    },
    {
     "data": {
      "image/png": "[encoded data removed]",
      "text/plain": [
       "<matplotlib.figure.Figure at 0x7fbf1cf58a90>"
      ]
     },
     "metadata": {},
     "output_type": "display_data"
    }
   ],
   "source": [
    "sns.pairplot(chicago_bnb[['response_r','accept_r', 'price_pp']])"
   ]
  },
  {
   "cell_type": "markdown",
   "metadata": {},
   "source": [
    "## Rate Mapping\n",
    "\n",
    "Raw numbers are incomparable across jurisdictions; to say that there were 100 homicides in one US county and 10 in another makes it seem like there were a lot in county with 100, until this is converting into a rate by placing total population in the denomentator."
   ]
  },
  {
   "cell_type": "code",
   "execution_count": 40,
   "metadata": {},
   "outputs": [
    {
     "data": {
      "image/png": "[encoded data removed]",
      "text/plain": [
       "<matplotlib.figure.Figure at 0x7fbf1cc8e550>"
      ]
     },
     "metadata": {},
     "output_type": "display_data"
    }
   ],
   "source": [
    "num_thefts_map = chicago_bnb.plot(column='num_theft', cmap='magma')\n",
    "add_color_bar(num_thefts_map, chicago_bnb['num_theft'], 'magma')"
   ]
  },
  {
   "cell_type": "code",
   "execution_count": 41,
   "metadata": {},
   "outputs": [],
   "source": [
    "chicago_bnb['thefts_per_capita'] = chicago_bnb['num_theft']/chicago_bnb['population']"
   ]
  },
  {
   "cell_type": "code",
   "execution_count": 44,
   "metadata": {},
   "outputs": [
    {
     "data": {
      "image/png": "[encoded data removed]",
      "text/plain": [
       "<matplotlib.figure.Figure at 0x7fbf1cb7a470>"
      ]
     },
     "metadata": {},
     "output_type": "display_data"
    }
   ],
   "source": [
    "per_person_thefts_map = chicago_bnb.plot(column='thefts_per_capita', cmap='magma')\n",
    "add_color_bar(num_thefts_map, chicago_bnb['thefts_per_capita'], 'magma')"
   ]
  },
  {
   "cell_type": "code",
   "execution_count": 43,
   "metadata": {},
   "outputs": [
    {
     "data": {
      "image/png": "[encoded data removed]",
      "text/plain": [
       "<matplotlib.figure.Figure at 0x7fbf1cc002e8>"
      ]
     },
     "metadata": {},
     "output_type": "display_data"
    }
   ],
   "source": [
    "chicago_bnb['crimes_per_capita'] = chicago_bnb['num_crimes']/chicago_bnb['population']\n",
    "num_crimes_map = chicago_bnb.plot(column='crimes_per_capita', cmap='magma')\n",
    "add_color_bar(num_crimes_map, chicago_bnb['crimes_per_capita'], 'magma')"
   ]
  },
  {
   "cell_type": "markdown",
   "metadata": {},
   "source": [
    "# Activity: Identify Three Potential Places in Chicago Where You Would Want to Stay\n",
    "You and a friend are planning to head to Chicago on a budget. You want to identify the top three communities to look for an AirBnB in. You’ve been provided with a dataset to aid in you in your decision-making.\n",
    "\n",
    "Utilize the basic ideas we explored related to mapping to:\n",
    "1. Identify three potential communities where you would want to stay\n",
    "2. Make a map with these three communities highlighted\n",
    "3. **Challenge:** create a linear combination of variables to create an index score of where you would want to stay. For example, the value of community to you, $v(community)$, could be modeled as:\n",
    "\n",
    "$ v(community) = weight_1 * norm(price_{pp}) + weight_2 * norm(accept_r) + ... + weight_n * norm(variable_n)$\n",
    "\n",
    "Variables would need to be normalized, and subjective weights can be assigned based on what you personally value.\n"
   ]
  },
  {
   "cell_type": "markdown",
   "metadata": {},
   "source": [
    "<a id='bda'></a>\n",
    "# Basic Spatial Data Analysis"
   ]
  },
  {
   "cell_type": "code",
   "execution_count": 46,
   "metadata": {},
   "outputs": [],
   "source": [
    "import pysal\n",
    "import numpy as np"
   ]
  },
  {
   "cell_type": "markdown",
   "metadata": {},
   "source": [
    "## Constructing spatial weights\n",
    "\n",
    "There are three different types of spatial weights:\n",
    "1. Contiguity Based Weights\n",
    "2. Distance Based Weights\n",
    "3. Kernel Weights\n",
    "\n",
    "This demonstration only performs contiguity-based weights, namely queen and rook. Here is a [link](http://pysal.readthedocs.io/en/latest/users/tutorials/weights.html#pysal-spatial-weight-types) to the documentation with many more."
   ]
  },
  {
   "cell_type": "code",
   "execution_count": 47,
   "metadata": {},
   "outputs": [],
   "source": [
    "chicago_weights = pysal.weights.Rook.from_dataframe(chicago_bnb)"
   ]
  },
  {
   "cell_type": "code",
   "execution_count": 48,
   "metadata": {},
   "outputs": [
    {
     "name": "stdout",
     "output_type": "stream",
     "text": [
      "6.0381\n"
     ]
    }
   ],
   "source": [
    "print(\"%.4f\"%chicago_weights.pct_nonzero)"
   ]
  },
  {
   "cell_type": "code",
   "execution_count": 49,
   "metadata": {},
   "outputs": [],
   "source": [
    "chicago_Qweights = pysal.weights.Queen.from_dataframe(chicago_bnb)"
   ]
  },
  {
   "cell_type": "code",
   "execution_count": 50,
   "metadata": {},
   "outputs": [
    {
     "name": "stdout",
     "output_type": "stream",
     "text": [
      "6.6453\n"
     ]
    }
   ],
   "source": [
    "print(\"%.4f\"%chicago_Qweights.pct_nonzero)"
   ]
  },
  {
   "cell_type": "code",
   "execution_count": 51,
   "metadata": {},
   "outputs": [
    {
     "data": {
      "text/plain": [
       "{0: [1.0, 1.0, 1.0, 1.0],\n",
       " 1: [1.0, 1.0, 1.0],\n",
       " 2: [1.0, 1.0, 1.0, 1.0, 1.0, 1.0],\n",
       " 3: [1.0, 1.0, 1.0, 1.0, 1.0, 1.0, 1.0],\n",
       " 4: [1.0, 1.0, 1.0, 1.0],\n",
       " 5: [1.0, 1.0, 1.0, 1.0, 1.0, 1.0, 1.0, 1.0],\n",
       " 6: [1.0, 1.0, 1.0, 1.0, 1.0, 1.0, 1.0],\n",
       " 7: [1.0, 1.0, 1.0, 1.0],\n",
       " 8: [1.0, 1.0, 1.0, 1.0],\n",
       " 9: [1.0, 1.0],\n",
       " 10: [1.0, 1.0, 1.0],\n",
       " 11: [1.0, 1.0, 1.0, 1.0, 1.0, 1.0],\n",
       " 12: [1.0, 1.0, 1.0, 1.0],\n",
       " 13: [1.0, 1.0, 1.0, 1.0, 1.0, 1.0],\n",
       " 14: [1.0, 1.0, 1.0, 1.0, 1.0, 1.0, 1.0],\n",
       " 15: [1.0, 1.0, 1.0, 1.0, 1.0, 1.0, 1.0],\n",
       " 16: [1.0, 1.0, 1.0, 1.0],\n",
       " 17: [1.0, 1.0, 1.0],\n",
       " 18: [1.0, 1.0, 1.0, 1.0, 1.0, 1.0],\n",
       " 19: [1.0, 1.0, 1.0, 1.0],\n",
       " 20: [1.0, 1.0, 1.0, 1.0, 1.0, 1.0, 1.0],\n",
       " 21: [1.0, 1.0, 1.0, 1.0],\n",
       " 22: [1.0, 1.0, 1.0, 1.0, 1.0, 1.0],\n",
       " 23: [1.0, 1.0, 1.0, 1.0, 1.0, 1.0, 1.0],\n",
       " 24: [1.0, 1.0, 1.0, 1.0, 1.0, 1.0],\n",
       " 25: [1.0, 1.0, 1.0, 1.0, 1.0, 1.0],\n",
       " 26: [1.0, 1.0, 1.0, 1.0],\n",
       " 27: [1.0, 1.0, 1.0, 1.0, 1.0],\n",
       " 28: [1.0, 1.0, 1.0, 1.0, 1.0, 1.0, 1.0, 1.0],\n",
       " 29: [1.0, 1.0, 1.0, 1.0, 1.0, 1.0],\n",
       " 30: [1.0, 1.0, 1.0, 1.0],\n",
       " 31: [1.0, 1.0, 1.0, 1.0, 1.0, 1.0],\n",
       " 32: [1.0, 1.0, 1.0, 1.0, 1.0, 1.0, 1.0, 1.0],\n",
       " 33: [1.0, 1.0, 1.0, 1.0, 1.0],\n",
       " 34: [1.0, 1.0, 1.0, 1.0, 1.0, 1.0, 1.0],\n",
       " 35: [1.0, 1.0, 1.0, 1.0],\n",
       " 36: [1.0, 1.0, 1.0, 1.0],\n",
       " 37: [1.0, 1.0, 1.0],\n",
       " 38: [1.0, 1.0, 1.0, 1.0],\n",
       " 39: [1.0, 1.0, 1.0, 1.0, 1.0, 1.0],\n",
       " 40: [1.0, 1.0, 1.0, 1.0, 1.0, 1.0],\n",
       " 41: [1.0, 1.0, 1.0, 1.0, 1.0],\n",
       " 42: [1.0, 1.0, 1.0, 1.0, 1.0, 1.0],\n",
       " 43: [1.0, 1.0, 1.0, 1.0, 1.0],\n",
       " 44: [1.0, 1.0, 1.0, 1.0, 1.0, 1.0, 1.0, 1.0],\n",
       " 45: [1.0, 1.0, 1.0, 1.0, 1.0, 1.0, 1.0, 1.0],\n",
       " 46: [1.0, 1.0, 1.0, 1.0],\n",
       " 47: [1.0, 1.0, 1.0, 1.0, 1.0, 1.0, 1.0],\n",
       " 48: [1.0, 1.0, 1.0],\n",
       " 49: [1.0, 1.0, 1.0],\n",
       " 50: [1.0, 1.0, 1.0, 1.0, 1.0],\n",
       " 51: [1.0, 1.0, 1.0],\n",
       " 52: [1.0, 1.0, 1.0, 1.0, 1.0],\n",
       " 53: [1.0, 1.0, 1.0, 1.0],\n",
       " 54: [1.0, 1.0, 1.0, 1.0, 1.0, 1.0, 1.0],\n",
       " 55: [1.0, 1.0, 1.0, 1.0, 1.0],\n",
       " 56: [1.0, 1.0, 1.0, 1.0],\n",
       " 57: [1.0, 1.0, 1.0, 1.0, 1.0],\n",
       " 58: [1.0, 1.0, 1.0, 1.0, 1.0, 1.0, 1.0],\n",
       " 59: [1.0, 1.0, 1.0, 1.0, 1.0, 1.0],\n",
       " 60: [1.0, 1.0, 1.0, 1.0, 1.0, 1.0],\n",
       " 61: [1.0, 1.0, 1.0],\n",
       " 62: [1.0, 1.0, 1.0, 1.0, 1.0, 1.0],\n",
       " 63: [1.0, 1.0, 1.0, 1.0, 1.0],\n",
       " 64: [1.0, 1.0, 1.0, 1.0, 1.0],\n",
       " 65: [1.0, 1.0, 1.0, 1.0, 1.0, 1.0],\n",
       " 66: [1.0, 1.0, 1.0, 1.0, 1.0, 1.0, 1.0],\n",
       " 67: [1.0, 1.0, 1.0, 1.0, 1.0],\n",
       " 68: [1.0, 1.0, 1.0, 1.0],\n",
       " 69: [1.0, 1.0, 1.0, 1.0, 1.0, 1.0, 1.0, 1.0, 1.0],\n",
       " 70: [1.0, 1.0, 1.0, 1.0, 1.0],\n",
       " 71: [1.0, 1.0, 1.0, 1.0],\n",
       " 72: [1.0, 1.0],\n",
       " 73: [1.0, 1.0, 1.0, 1.0, 1.0],\n",
       " 74: [1.0, 1.0],\n",
       " 75: [1.0, 1.0, 1.0, 1.0],\n",
       " 76: [1.0]}"
      ]
     },
     "execution_count": 51,
     "metadata": {},
     "output_type": "execute_result"
    }
   ],
   "source": [
    "chicago_Qweights.weights"
   ]
  },
  {
   "cell_type": "code",
   "execution_count": 52,
   "metadata": {},
   "outputs": [
    {
     "name": "stdout",
     "output_type": "stream",
     "text": [
      "Help on Queen in module pysal.weights.Contiguity object:\n",
      "\n",
      "class Queen(pysal.weights.weights.W)\n",
      " |  Spatial weights.\n",
      " |  \n",
      " |  Parameters\n",
      " |  ----------\n",
      " |  neighbors       : dictionary\n",
      " |                    key is region ID, value is a list of neighbor IDS\n",
      " |                    Example:  {'a':['b'],'b':['a','c'],'c':['b']}\n",
      " |  weights : dictionary\n",
      " |                    key is region ID, value is a list of edge weights\n",
      " |                    If not supplied all edge weights are assumed to have a weight of 1.\n",
      " |                    Example: {'a':[0.5],'b':[0.5,1.5],'c':[1.5]}\n",
      " |  id_order : list\n",
      " |                    An ordered list of ids, defines the order of\n",
      " |                    observations when iterating over W if not set,\n",
      " |                    lexicographical ordering is used to iterate and the\n",
      " |                    id_order_set property will return False.  This can be\n",
      " |                    set after creation by setting the 'id_order' property.\n",
      " |  silent_island_warning   : boolean\n",
      " |                          By default PySAL will print a warning if the\n",
      " |                          dataset contains any disconnected observations or\n",
      " |                          islands. To silence this warning set this\n",
      " |                          parameter to True.\n",
      " |  ids : list\n",
      " |                    values to use for keys of the neighbors and weights dicts\n",
      " |  \n",
      " |  Attributes\n",
      " |  ----------\n",
      " |  \n",
      " |  asymmetries         : list\n",
      " |                        of\n",
      " |  cardinalities       : dictionary\n",
      " |                        of\n",
      " |  diagW2              : array\n",
      " |                        of\n",
      " |  diagWtW             : array\n",
      " |                        of\n",
      " |  diagWtW_WW          : array\n",
      " |                        of\n",
      " |  histogram           : dictionary\n",
      " |                        of\n",
      " |  id2i                : dictionary\n",
      " |                        of\n",
      " |  id_order            : list\n",
      " |                        of\n",
      " |  id_order_set        : boolean\n",
      " |                        True if\n",
      " |  islands             : list\n",
      " |                        of\n",
      " |  \n",
      " |  max_neighbors       : int\n",
      " |                        maximum number of neighbors\n",
      " |  \n",
      " |  mean_neighbors      : int\n",
      " |                        mean number of neighbors\n",
      " |  \n",
      " |  min_neighbors       : int\n",
      " |                        minimum neighbor count\n",
      " |  n                   : int\n",
      " |                        of\n",
      " |  \n",
      " |  neighbor_offsets    : list\n",
      " |                        ids of neighbors to a region in id_order\n",
      " |  nonzero             : int\n",
      " |                        Number of non-zero entries\n",
      " |  pct_nonzero         : float\n",
      " |                        Percentage of nonzero neighbor counts\n",
      " |  s0                  : float\n",
      " |                        of\n",
      " |  s1                  : float\n",
      " |                        of\n",
      " |  s2                  : float\n",
      " |                        of\n",
      " |  s2array             : array\n",
      " |                        of\n",
      " |  sd                  : float\n",
      " |                        of\n",
      " |  sparse              : sparse_matrix\n",
      " |                        SciPy sparse matrix instance\n",
      " |  trcW2               : float\n",
      " |                        of\n",
      " |  trcWtW              : float\n",
      " |                        of\n",
      " |  trcWtW_WW           : float\n",
      " |                        of\n",
      " |  transform           : string\n",
      " |                        of\n",
      " |  \n",
      " |  Examples\n",
      " |  --------\n",
      " |  >>> from pysal import W, lat2W\n",
      " |  >>> neighbors = {0: [3, 1], 1: [0, 4, 2], 2: [1, 5], 3: [0, 6, 4], 4: [1, 3, 7, 5], 5: [2, 4, 8], 6: [3, 7], 7: [4, 6, 8], 8: [5, 7]}\n",
      " |  >>> weights = {0: [1, 1], 1: [1, 1, 1], 2: [1, 1], 3: [1, 1, 1], 4: [1, 1, 1, 1], 5: [1, 1, 1], 6: [1, 1], 7: [1, 1, 1], 8: [1, 1]}\n",
      " |  >>> w = W(neighbors, weights)\n",
      " |  >>> \"%.3f\"%w.pct_nonzero\n",
      " |  '29.630'\n",
      " |  \n",
      " |  Read from external gal file\n",
      " |  \n",
      " |  >>> import pysal\n",
      " |  >>> w = pysal.open(pysal.examples.get_path(\"stl.gal\")).read()\n",
      " |  >>> w.n\n",
      " |  78\n",
      " |  >>> \"%.3f\"%w.pct_nonzero\n",
      " |  '6.542'\n",
      " |  \n",
      " |  Set weights implicitly\n",
      " |  \n",
      " |  >>> neighbors = {0: [3, 1], 1: [0, 4, 2], 2: [1, 5], 3: [0, 6, 4], 4: [1, 3, 7, 5], 5: [2, 4, 8], 6: [3, 7], 7: [4, 6, 8], 8: [5, 7]}\n",
      " |  >>> w = W(neighbors)\n",
      " |  >>> round(w.pct_nonzero,3)\n",
      " |  29.63\n",
      " |  >>> w = lat2W(100, 100)\n",
      " |  >>> w.trcW2\n",
      " |  39600.0\n",
      " |  >>> w.trcWtW\n",
      " |  39600.0\n",
      " |  >>> w.transform='r'\n",
      " |  >>> round(w.trcW2, 3)\n",
      " |  2530.722\n",
      " |  >>> round(w.trcWtW, 3)\n",
      " |  2533.667\n",
      " |  \n",
      " |  Cardinality Histogram\n",
      " |  \n",
      " |  >>> w=pysal.rook_from_shapefile(pysal.examples.get_path(\"sacramentot2.shp\"))\n",
      " |  >>> w.histogram\n",
      " |  [(1, 1), (2, 6), (3, 33), (4, 103), (5, 114), (6, 73), (7, 35), (8, 17), (9, 9), (10, 4), (11, 4), (12, 3), (13, 0), (14, 1)]\n",
      " |  \n",
      " |  Disconnected observations (islands)\n",
      " |  \n",
      " |  >>> w = pysal.W({1:[0],0:[1],2:[], 3:[]})\n",
      " |  WARNING: there are 2 disconnected observations\n",
      " |  Island ids:  [2, 3]\n",
      " |  \n",
      " |  Method resolution order:\n",
      " |      Queen\n",
      " |      pysal.weights.weights.W\n",
      " |      builtins.object\n",
      " |  \n",
      " |  Methods defined here:\n",
      " |  \n",
      " |  __init__(self, polygons, method='binning', **kw)\n",
      " |      Construct a weights object from a collection of pysal polygons.\n",
      " |      \n",
      " |      Arguments\n",
      " |      ---------\n",
      " |      polygons    : list\n",
      " |                    a collection of PySAL shapes to build weights from\n",
      " |      ids         : list\n",
      " |                    a list of names to use to build the weights\n",
      " |      method      : string\n",
      " |                    the algorithm to use to construct the method\n",
      " |      **kw        : keyword arguments\n",
      " |                    optional arguments for :class:`pysal.weights.W`\n",
      " |      \n",
      " |      See Also\n",
      " |      ---------\n",
      " |      :class:`pysal.weights.W`\n",
      " |  \n",
      " |  ----------------------------------------------------------------------\n",
      " |  Class methods defined here:\n",
      " |  \n",
      " |  from_dataframe(df, geom_col='geometry', **kwargs) from builtins.type\n",
      " |      Construct a weights object from a pandas dataframe with a geometry\n",
      " |      column. This will cast the polygons to PySAL polygons, then build the W\n",
      " |      using ids from the dataframe.\n",
      " |      \n",
      " |      Arguments\n",
      " |      ---------\n",
      " |      df          : DataFrame\n",
      " |                    a :class: `pandas.DataFrame` containing geometries to use\n",
      " |                    for spatial weights\n",
      " |      geom_col    : string\n",
      " |                    the name of the column in `df` that contains the\n",
      " |                    geometries. Defaults to `geometry`\n",
      " |      idVariable  : string\n",
      " |                    the name of the column to use as IDs. If nothing is\n",
      " |                    provided, the dataframe index is used\n",
      " |      ids         : list\n",
      " |                    a list of ids to use to index the spatial weights object.\n",
      " |                    Order is not respected from this list.\n",
      " |      id_order    : list\n",
      " |                    an ordered list of ids to use to index the spatial weights\n",
      " |                    object. If used, the resulting weights object will iterate\n",
      " |                    over results in the order of the names provided in this\n",
      " |                    argument. \n",
      " |      \n",
      " |      See Also\n",
      " |      ---------\n",
      " |      :class:`pysal.weights.W`\n",
      " |      :class:`pysal.weights.Queen`\n",
      " |  \n",
      " |  from_iterable(iterable, sparse=False, **kwargs) from builtins.type\n",
      " |      Construct a weights object from a collection of arbitrary polygons. This\n",
      " |      will cast the polygons to PySAL polygons, then build the W.\n",
      " |      \n",
      " |      Arguments\n",
      " |      ---------\n",
      " |      iterable    : iterable\n",
      " |                    a collection of of shapes to be cast to PySAL shapes. Must\n",
      " |                    support iteration. Contents should at least implement a\n",
      " |                    `__geo_interface__` attribute or be able to be coerced to\n",
      " |                    geometries using pysal.cg.asShape\n",
      " |      **kw        : keyword arguments\n",
      " |                    optional arguments for  :class:`pysal.weights.W`\n",
      " |      See Also\n",
      " |      ----------\n",
      " |      :class:`pysal.weights.W`\n",
      " |      :class:`pysal.weights.Queen`\n",
      " |  \n",
      " |  from_shapefile(filepath, idVariable=None, full=False, **kwargs) from builtins.type\n",
      " |      Queen contiguity weights from a polygon shapefile.\n",
      " |      \n",
      " |      Parameters\n",
      " |      ----------\n",
      " |      \n",
      " |      shapefile   : string\n",
      " |                    name of polygon shapefile including suffix.\n",
      " |      idVariable  : string\n",
      " |                    name of a column in the shapefile's DBF to use for ids.\n",
      " |      sparse      : boolean\n",
      " |                    If True return WSP instance\n",
      " |                    If False return W instance\n",
      " |      Returns\n",
      " |      -------\n",
      " |      \n",
      " |      w            : W\n",
      " |                     instance of spatial weights\n",
      " |      \n",
      " |      Examples\n",
      " |      --------\n",
      " |      >>> wq=Queen.from_shapefile(pysal.examples.get_path(\"columbus.shp\"))\n",
      " |      >>> \"%.3f\"%wq.pct_nonzero\n",
      " |      '9.829'\n",
      " |      >>> wq=Queen.from_shapefile(pysal.examples.get_path(\"columbus.shp\"),\"POLYID\")\n",
      " |      >>> \"%.3f\"%wq.pct_nonzero\n",
      " |      '9.829'\n",
      " |      >>> wq=Queen.from_shapefile(pysal.examples.get_path(\"columbus.shp\"), sparse=True)\n",
      " |      >>> pct_sp = wq.sparse.nnz *1. / wq.n**2\n",
      " |      >>> \"%.3f\"%pct_sp\n",
      " |      '0.098'\n",
      " |      \n",
      " |      Notes\n",
      " |      \n",
      " |      Queen contiguity defines as neighbors any pair of polygons that share at\n",
      " |      least one vertex in their polygon definitions.\n",
      " |      \n",
      " |      See Also\n",
      " |      --------\n",
      " |      :class:`pysal.weights.W`\n",
      " |      :class:`pysal.weights.Queen`\n",
      " |  \n",
      " |  ----------------------------------------------------------------------\n",
      " |  Methods inherited from pysal.weights.weights.W:\n",
      " |  \n",
      " |  __getitem__(self, key)\n",
      " |      Allow a dictionary like interaction with the weights class.\n",
      " |      \n",
      " |      Examples\n",
      " |      --------\n",
      " |      >>> from pysal import rook_from_shapefile as rfs\n",
      " |      >>> w = rfs(pysal.examples.get_path(\"10740.shp\"))\n",
      " |      WARNING: there is one disconnected observation (no neighbors)\n",
      " |      Island id:  [163]\n",
      " |      >>> w[163]\n",
      " |      {}\n",
      " |      >>> w[0]\n",
      " |      {1: 1.0, 4: 1.0, 101: 1.0, 85: 1.0, 5: 1.0}\n",
      " |  \n",
      " |  __iter__(self)\n",
      " |      Support iteration over weights.\n",
      " |      \n",
      " |      Examples\n",
      " |      --------\n",
      " |      >>> import pysal\n",
      " |      >>> w=pysal.lat2W(3,3)\n",
      " |      >>> for i,wi in enumerate(w):\n",
      " |      ...     print i,wi\n",
      " |      ...\n",
      " |      0 (0, {1: 1.0, 3: 1.0})\n",
      " |      1 (1, {0: 1.0, 2: 1.0, 4: 1.0})\n",
      " |      2 (2, {1: 1.0, 5: 1.0})\n",
      " |      3 (3, {0: 1.0, 4: 1.0, 6: 1.0})\n",
      " |      4 (4, {1: 1.0, 3: 1.0, 5: 1.0, 7: 1.0})\n",
      " |      5 (5, {8: 1.0, 2: 1.0, 4: 1.0})\n",
      " |      6 (6, {3: 1.0, 7: 1.0})\n",
      " |      7 (7, {8: 1.0, 4: 1.0, 6: 1.0})\n",
      " |      8 (8, {5: 1.0, 7: 1.0})\n",
      " |      >>>\n",
      " |  \n",
      " |  asymmetry(self, intrinsic=True)\n",
      " |      Asymmetry check.\n",
      " |      \n",
      " |      Parameters\n",
      " |      ----------\n",
      " |      intrinsic   :   boolean\n",
      " |                      default=True\n",
      " |      \n",
      " |              intrinsic symmetry:\n",
      " |                    :math:`w_{i,j} == w_{j,i}`\n",
      " |      \n",
      " |              if intrisic is False:\n",
      " |                  symmetry is defined as :math:`i \\in N_j \\ AND \\ j \\in N_i` where\n",
      " |                  :math:`N_j` is the set of neighbors for j.\n",
      " |      \n",
      " |      Returns\n",
      " |      -------\n",
      " |      asymmetries : list\n",
      " |                    empty if no asymmetries are found\n",
      " |                    if asymmetries, then a list of (i,j) tuples is returned\n",
      " |      \n",
      " |      Examples\n",
      " |      --------\n",
      " |      \n",
      " |      >>> from pysal import lat2W\n",
      " |      >>> w=lat2W(3,3)\n",
      " |      >>> w.asymmetry()\n",
      " |      []\n",
      " |      >>> w.transform='r'\n",
      " |      >>> w.asymmetry()\n",
      " |      [(0, 1), (0, 3), (1, 0), (1, 2), (1, 4), (2, 1), (2, 5), (3, 0), (3, 4), (3, 6), (4, 1), (4, 3), (4, 5), (4, 7), (5, 2), (5, 4), (5, 8), (6, 3), (6, 7), (7, 4), (7, 6), (7, 8), (8, 5), (8, 7)]\n",
      " |      >>> result = w.asymmetry(intrinsic=False)\n",
      " |      >>> result\n",
      " |      []\n",
      " |      >>> neighbors={0:[1,2,3], 1:[1,2,3], 2:[0,1], 3:[0,1]}\n",
      " |      >>> weights={0:[1,1,1], 1:[1,1,1], 2:[1,1], 3:[1,1]}\n",
      " |      >>> w=W(neighbors,weights)\n",
      " |      >>> w.asymmetry()\n",
      " |      [(0, 1), (1, 0)]\n",
      " |  \n",
      " |  full(self)\n",
      " |      Generate a full numpy array.\n",
      " |      \n",
      " |      Returns\n",
      " |      -------\n",
      " |      \n",
      " |      implicit : tuple\n",
      " |                 first element being the full numpy array and second element\n",
      " |                 keys being the ids associated with each row in the array.\n",
      " |      \n",
      " |      Examples\n",
      " |      --------\n",
      " |      >>> from pysal import W\n",
      " |      >>> neighbors={'first':['second'],'second':['first','third'],'third':['second']}\n",
      " |      >>> weights={'first':[1],'second':[1,1],'third':[1]}\n",
      " |      >>> w=W(neighbors,weights)\n",
      " |      >>> wf,ids=w.full()\n",
      " |      >>> wf\n",
      " |      array([[ 0.,  1.,  0.],\n",
      " |             [ 1.,  0.,  1.],\n",
      " |             [ 0.,  1.,  0.]])\n",
      " |      >>> ids\n",
      " |      ['first', 'second', 'third']\n",
      " |      \n",
      " |      See also\n",
      " |      --------\n",
      " |      full\n",
      " |  \n",
      " |  get_transform(self)\n",
      " |      Getter for transform property.\n",
      " |      \n",
      " |      Returns\n",
      " |      -------\n",
      " |      transformation : string (or none)\n",
      " |      \n",
      " |      Examples\n",
      " |      --------\n",
      " |      >>> from pysal import lat2W\n",
      " |      >>> w=lat2W()\n",
      " |      >>> w.weights[0]\n",
      " |      [1.0, 1.0]\n",
      " |      >>> w.transform\n",
      " |      'O'\n",
      " |      >>> w.transform='r'\n",
      " |      >>> w.weights[0]\n",
      " |      [0.5, 0.5]\n",
      " |      >>> w.transform='b'\n",
      " |      >>> w.weights[0]\n",
      " |      [1.0, 1.0]\n",
      " |      >>>\n",
      " |  \n",
      " |  remap_ids(self, new_ids)\n",
      " |      In place modification throughout `W` of id values from `w.id_order` to\n",
      " |      `new_ids` in all\n",
      " |      \n",
      " |      ...\n",
      " |      \n",
      " |      Arguments\n",
      " |      ---------\n",
      " |      \n",
      " |      new_ids     :   list\n",
      " |                      /ndarray\n",
      " |                      Aligned list of new ids to be inserted. Note that first\n",
      " |                      element of new_ids will replace first element of\n",
      " |                      w.id_order, second element of new_ids replaces second\n",
      " |                      element of w.id_order and so on.\n",
      " |      \n",
      " |      Example\n",
      " |      -------\n",
      " |      \n",
      " |      >>> import pysal as ps\n",
      " |      >>> w = ps.lat2W(3, 3)\n",
      " |      >>> w.id_order\n",
      " |      [0, 1, 2, 3, 4, 5, 6, 7, 8]\n",
      " |      >>> w.neighbors[0]\n",
      " |      [3, 1]\n",
      " |      >>> new_ids = ['id%i'%id for id in w.id_order]\n",
      " |      >>> _ = w.remap_ids(new_ids)\n",
      " |      >>> w.id_order\n",
      " |      ['id0', 'id1', 'id2', 'id3', 'id4', 'id5', 'id6', 'id7', 'id8']\n",
      " |      >>> w.neighbors['id0']\n",
      " |      ['id3', 'id1']\n",
      " |  \n",
      " |  set_shapefile(self, shapefile, idVariable=None, full=False)\n",
      " |      Adding meta data for writing headers of gal and gwt files.\n",
      " |      \n",
      " |      Parameters\n",
      " |      ----------\n",
      " |      \n",
      " |      shapefile :     string\n",
      " |                      shapefile name used to construct weights\n",
      " |      \n",
      " |      idVariable :    string\n",
      " |                      name of attribute in shapefile to associate with ids in the weights\n",
      " |      \n",
      " |      full :          boolean\n",
      " |                      True - write out entire path for shapefile, False\n",
      " |                      (default) only base of shapefile without extension\n",
      " |  \n",
      " |  set_transform(self, value='B')\n",
      " |      Transformations of weights.\n",
      " |      \n",
      " |      Notes\n",
      " |      -----\n",
      " |      \n",
      " |      Transformations are applied only to the value of the weights at\n",
      " |      instantiation. Chaining of transformations cannot be done on a W\n",
      " |      instance.\n",
      " |      \n",
      " |      Parameters\n",
      " |      ----------\n",
      " |      transform   :   string\n",
      " |                      not case sensitive)\n",
      " |      \n",
      " |      .. table::\n",
      " |      \n",
      " |         :widths: auto\n",
      " |      \n",
      " |         ================   ======================================================\n",
      " |         transform string   value\n",
      " |         ================   ======================================================\n",
      " |         B                  Binary\n",
      " |         R                  Row-standardization (global sum=n)\n",
      " |         D                  Double-standardization (global sum=1)\n",
      " |         V                  Variance stabilizing\n",
      " |         O                  Restore original transformation (from instantiation)\n",
      " |         ================   ======================================================\n",
      " |      \n",
      " |      Examples\n",
      " |      --------\n",
      " |      >>> from pysal import lat2W\n",
      " |      >>> w=lat2W()\n",
      " |      >>> w.weights[0]\n",
      " |      [1.0, 1.0]\n",
      " |      >>> w.transform\n",
      " |      'O'\n",
      " |      >>> w.transform='r'\n",
      " |      >>> w.weights[0]\n",
      " |      [0.5, 0.5]\n",
      " |      >>> w.transform='b'\n",
      " |      >>> w.weights[0]\n",
      " |      [1.0, 1.0]\n",
      " |      >>>\n",
      " |  \n",
      " |  to_WSP = towsp(self)\n",
      " |      Generate a WSP object.\n",
      " |      \n",
      " |      Returns\n",
      " |      -------\n",
      " |      \n",
      " |      implicit : pysal.WSP\n",
      " |                 Thin W class\n",
      " |      \n",
      " |      Examples\n",
      " |      --------\n",
      " |      >>> import pysal as ps\n",
      " |      >>> from pysal import W\n",
      " |      >>> neighbors={'first':['second'],'second':['first','third'],'third':['second']}\n",
      " |      >>> weights={'first':[1],'second':[1,1],'third':[1]}\n",
      " |      >>> w=W(neighbors,weights)\n",
      " |      >>> wsp=w.towsp()\n",
      " |      >>> isinstance(wsp, ps.weights.weights.WSP)\n",
      " |      True\n",
      " |      >>> wsp.n\n",
      " |      3\n",
      " |      >>> wsp.s0\n",
      " |      4\n",
      " |      \n",
      " |      See also\n",
      " |      --------\n",
      " |      WSP\n",
      " |  \n",
      " |  towsp(self)\n",
      " |      Generate a WSP object.\n",
      " |      \n",
      " |      Returns\n",
      " |      -------\n",
      " |      \n",
      " |      implicit : pysal.WSP\n",
      " |                 Thin W class\n",
      " |      \n",
      " |      Examples\n",
      " |      --------\n",
      " |      >>> import pysal as ps\n",
      " |      >>> from pysal import W\n",
      " |      >>> neighbors={'first':['second'],'second':['first','third'],'third':['second']}\n",
      " |      >>> weights={'first':[1],'second':[1,1],'third':[1]}\n",
      " |      >>> w=W(neighbors,weights)\n",
      " |      >>> wsp=w.towsp()\n",
      " |      >>> isinstance(wsp, ps.weights.weights.WSP)\n",
      " |      True\n",
      " |      >>> wsp.n\n",
      " |      3\n",
      " |      >>> wsp.s0\n",
      " |      4\n",
      " |      \n",
      " |      See also\n",
      " |      --------\n",
      " |      WSP\n",
      " |  \n",
      " |  ----------------------------------------------------------------------\n",
      " |  Class methods inherited from pysal.weights.weights.W:\n",
      " |  \n",
      " |  from_WSP(WSP, silent_island_warning=True) from builtins.type\n",
      " |  \n",
      " |  from_file(path='', format=None, **kwargs) from builtins.type\n",
      " |  \n",
      " |  ----------------------------------------------------------------------\n",
      " |  Data descriptors inherited from pysal.weights.weights.W:\n",
      " |  \n",
      " |  __dict__\n",
      " |      dictionary for instance variables (if defined)\n",
      " |  \n",
      " |  __weakref__\n",
      " |      list of weak references to the object (if defined)\n",
      " |  \n",
      " |  asymmetries\n",
      " |      List of id pairs with asymmetric weights.\n",
      " |  \n",
      " |  cardinalities\n",
      " |      Number of neighbors for each observation.\n",
      " |  \n",
      " |  diagW2\n",
      " |      Diagonal of :math:`WW`.\n",
      " |      \n",
      " |      See Also\n",
      " |      --------\n",
      " |      trcW2\n",
      " |  \n",
      " |  diagWtW\n",
      " |      Diagonal of :math:`W^{'}W`.\n",
      " |      \n",
      " |      See Also\n",
      " |      --------\n",
      " |      trcWtW\n",
      " |  \n",
      " |  diagWtW_WW\n",
      " |      Diagonal of :math:`W^{'}W + WW`.\n",
      " |  \n",
      " |  histogram\n",
      " |      Cardinality histogram as a dictionary where key is the id and\n",
      " |      value is the number of neighbors for that unit.\n",
      " |  \n",
      " |  id2i\n",
      " |      Dictionary where the key is an ID and the value is that ID's\n",
      " |      index in W.id_order.\n",
      " |  \n",
      " |  id_order\n",
      " |      Returns the ids for the observations in the order in which they\n",
      " |      would be encountered if iterating over the weights.\n",
      " |  \n",
      " |  id_order_set\n",
      " |      Returns True if user has set id_order, False if not.\n",
      " |      \n",
      " |      Examples\n",
      " |      --------\n",
      " |      >>> from pysal import lat2W\n",
      " |      >>> w=lat2W()\n",
      " |      >>> w.id_order_set\n",
      " |      True\n",
      " |  \n",
      " |  islands\n",
      " |      List of ids without any neighbors.\n",
      " |  \n",
      " |  max_neighbors\n",
      " |      Largest number of neighbors.\n",
      " |  \n",
      " |  mean_neighbors\n",
      " |      Average number of neighbors.\n",
      " |  \n",
      " |  min_neighbors\n",
      " |      Minimum number of neighbors.\n",
      " |  \n",
      " |  n\n",
      " |      Number of units.\n",
      " |  \n",
      " |  neighbor_offsets\n",
      " |      Given the current id_order, neighbor_offsets[id] is the offsets of the\n",
      " |      id's neighbors in id_order.\n",
      " |      \n",
      " |      Returns\n",
      " |      -------\n",
      " |      list\n",
      " |              offsets of the id's neighbors in id_order\n",
      " |      \n",
      " |      Examples\n",
      " |      --------\n",
      " |      >>> from pysal import W\n",
      " |      >>> neighbors={'c': ['b'], 'b': ['c', 'a'], 'a': ['b']}\n",
      " |      >>> weights ={'c': [1.0], 'b': [1.0, 1.0], 'a': [1.0]}\n",
      " |      >>> w=W(neighbors,weights)\n",
      " |      >>> w.id_order = ['a','b','c']\n",
      " |      >>> w.neighbor_offsets['b']\n",
      " |      [2, 0]\n",
      " |      >>> w.id_order = ['b','a','c']\n",
      " |      >>> w.neighbor_offsets['b']\n",
      " |      [2, 1]\n",
      " |  \n",
      " |  nonzero\n",
      " |      Number of nonzero weights.\n",
      " |  \n",
      " |  pct_nonzero\n",
      " |      Percentage of nonzero weights.\n",
      " |  \n",
      " |  s0\n",
      " |      s0 is defined as\n",
      " |      \n",
      " |      .. math::\n",
      " |      \n",
      " |             s0=\\sum_i \\sum_j w_{i,j}\n",
      " |  \n",
      " |  s1\n",
      " |      s1 is defined as\n",
      " |      \n",
      " |      .. math::\n",
      " |      \n",
      " |             s1=1/2 \\sum_i \\sum_j (w_{i,j} + w_{j,i})^2\n",
      " |  \n",
      " |  s2\n",
      " |      s2 is defined as\n",
      " |      \n",
      " |      .. math::\n",
      " |      \n",
      " |              s2=\\sum_j (\\sum_i w_{i,j} + \\sum_i w_{j,i})^2\n",
      " |  \n",
      " |  s2array\n",
      " |      Individual elements comprising s2.\n",
      " |      \n",
      " |      See Also\n",
      " |      --------\n",
      " |      s2\n",
      " |  \n",
      " |  sd\n",
      " |      Standard deviation of number of neighbors.\n",
      " |  \n",
      " |  sparse\n",
      " |      Sparse matrix object.\n",
      " |      \n",
      " |      For any matrix manipulations required for w, w.sparse should be\n",
      " |      used. This is based on scipy.sparse.\n",
      " |  \n",
      " |  transform\n",
      " |      Getter for transform property.\n",
      " |      \n",
      " |      Returns\n",
      " |      -------\n",
      " |      transformation : string (or none)\n",
      " |      \n",
      " |      Examples\n",
      " |      --------\n",
      " |      >>> from pysal import lat2W\n",
      " |      >>> w=lat2W()\n",
      " |      >>> w.weights[0]\n",
      " |      [1.0, 1.0]\n",
      " |      >>> w.transform\n",
      " |      'O'\n",
      " |      >>> w.transform='r'\n",
      " |      >>> w.weights[0]\n",
      " |      [0.5, 0.5]\n",
      " |      >>> w.transform='b'\n",
      " |      >>> w.weights[0]\n",
      " |      [1.0, 1.0]\n",
      " |      >>>\n",
      " |  \n",
      " |  trcW2\n",
      " |      Trace of :math:`WW`.\n",
      " |      \n",
      " |      See Also\n",
      " |      --------\n",
      " |      diagW2\n",
      " |  \n",
      " |  trcWtW\n",
      " |      Trace of :math:`W^{'}W`.\n",
      " |      \n",
      " |      See Also\n",
      " |      --------\n",
      " |      diagWtW\n",
      " |  \n",
      " |  trcWtW_WW\n",
      " |      Trace of :math:`W^{'}W + WW`.\n",
      "\n"
     ]
    }
   ],
   "source": [
    "help(chicago_Qweights)"
   ]
  },
  {
   "cell_type": "markdown",
   "metadata": {},
   "source": [
    "## Moran's I"
   ]
  },
  {
   "cell_type": "code",
   "execution_count": 53,
   "metadata": {},
   "outputs": [],
   "source": [
    "y=chicago_bnb['price_pp']\n",
    "w=chicago_Qweights\n",
    "chicago_Qweights_moran = pysal.Moran(y, w, two_tailed=False)"
   ]
  },
  {
   "cell_type": "code",
   "execution_count": 54,
   "metadata": {},
   "outputs": [
    {
     "data": {
      "text/plain": [
       "'0.320'"
      ]
     },
     "execution_count": 54,
     "metadata": {},
     "output_type": "execute_result"
    }
   ],
   "source": [
    "\"%.3f\"%chicago_Qweights_moran.I"
   ]
  },
  {
   "cell_type": "code",
   "execution_count": 57,
   "metadata": {},
   "outputs": [
    {
     "data": {
      "text/plain": [
       "'0.00000179'"
      ]
     },
     "execution_count": 57,
     "metadata": {},
     "output_type": "execute_result"
    }
   ],
   "source": [
    "\"%.8f\"%chicago_Qweights_moran.p_norm"
   ]
  },
  {
   "cell_type": "code",
   "execution_count": 59,
   "metadata": {},
   "outputs": [
    {
     "data": {
      "text/plain": [
       "<matplotlib.axes._subplots.AxesSubplot at 0x7fbf1c1e3c18>"
      ]
     },
     "execution_count": 59,
     "metadata": {},
     "output_type": "execute_result"
    },
    {
     "data": {
      "image/png": "[encoded data removed]",
      "text/plain": [
       "<matplotlib.figure.Figure at 0x7fbf1c1e3198>"
      ]
     },
     "metadata": {},
     "output_type": "display_data"
    }
   ],
   "source": [
    "chicago_bnb.plot(column='price_pp')"
   ]
  },
  {
   "cell_type": "markdown",
   "metadata": {},
   "source": [
    "# Activity\n",
    "Utilize the basic ideas we explored related to spatial autocorrelation to:\n",
    "1. Test spatial autocorrelation across multiple variables and weights\n",
    "2. Which variable is the most spatially autocorrelated?\n",
    "3. Do you have any hunches as to why there is or isn’t spatial autocorrelation in different variables?\n"
   ]
  },
  {
   "cell_type": "code",
   "execution_count": null,
   "metadata": {},
   "outputs": [],
   "source": []
  }
 ],
 "metadata": {
  "kernelspec": {
   "display_name": "Python 3",
   "language": "python",
   "name": "python3"
  },
  "language_info": {
   "codemirror_mode": {
    "name": "ipython",
    "version": 3
   },
   "file_extension": ".py",
   "mimetype": "text/x-python",
   "name": "python",
   "nbconvert_exporter": "python",
   "pygments_lexer": "ipython3",
   "version": "3.5.2"
  }
 },
 "nbformat": 4,
 "nbformat_minor": 2
}
